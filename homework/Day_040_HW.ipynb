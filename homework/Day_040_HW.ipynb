{
 "cells": [
  {
   "cell_type": "markdown",
   "metadata": {},
   "source": [
    "## [作業重點]\n",
    "使用 Sklearn 中的 Lasso, Ridge 模型，來訓練各種資料集，務必了解送進去模型訓練的**資料型態**為何，也請了解模型中各項參數的意義。\n",
    "\n",
    "機器學習的模型非常多種，但要訓練的資料多半有固定的格式，確保你了解訓練資料的格式為何，這樣在應用新模型時，就能夠最快的上手開始訓練！"
   ]
  },
  {
   "cell_type": "markdown",
   "metadata": {},
   "source": [
    "## 練習時間\n",
    "試著使用 sklearn datasets 的其他資料集 (boston, ...)，來訓練自己的線性迴歸模型，並加上適當的正則化來觀察訓練情形。"
   ]
  },
  {
   "cell_type": "code",
   "execution_count": 1,
   "metadata": {},
   "outputs": [
    {
     "name": "stdout",
     "output_type": "stream",
     "text": [
      "Mean squared error: 0.18\n"
     ]
    },
    {
     "name": "stderr",
     "output_type": "stream",
     "text": [
      "C:\\Users\\User\\anaconda3\\lib\\site-packages\\sklearn\\linear_model\\_logistic.py:940: ConvergenceWarning: lbfgs failed to converge (status=1):\n",
      "STOP: TOTAL NO. of ITERATIONS REACHED LIMIT.\n",
      "\n",
      "Increase the number of iterations (max_iter) or scale the data as shown in:\n",
      "    https://scikit-learn.org/stable/modules/preprocessing.html\n",
      "Please also refer to the documentation for alternative solver options:\n",
      "    https://scikit-learn.org/stable/modules/linear_model.html#logistic-regression\n",
      "  extra_warning_msg=_LOGISTIC_SOLVER_CONVERGENCE_MSG)\n"
     ]
    },
    {
     "data": {
      "text/plain": [
       "array([[ 2.78370509e-01,  1.87322785e-01,  5.69447819e-01,\n",
       "        -2.41166305e-02, -5.44863998e-03, -3.37078135e-02,\n",
       "        -4.82663227e-02, -1.92521340e-02, -7.08974937e-03,\n",
       "        -1.26920530e-03,  1.04193512e-02,  4.91514323e-02,\n",
       "        -3.79257953e-02, -8.62078473e-02, -5.05371965e-04,\n",
       "        -7.56465022e-03, -1.09042086e-02, -2.53640046e-03,\n",
       "        -1.42487198e-03, -5.22447716e-04,  3.04869242e-01,\n",
       "        -2.96430028e-01, -2.68519945e-01, -1.32959888e-02,\n",
       "        -1.13295309e-02, -1.14224162e-01, -1.46817695e-01,\n",
       "        -3.94195487e-02, -2.48700415e-02, -9.80808088e-03]])"
      ]
     },
     "execution_count": 1,
     "metadata": {},
     "output_type": "execute_result"
    }
   ],
   "source": [
    "import numpy as np\n",
    "import matplotlib.pyplot as plt\n",
    "from sklearn import datasets, linear_model\n",
    "from sklearn.model_selection import train_test_split\n",
    "from sklearn.metrics import mean_squared_error, r2_score, accuracy_score\n",
    "\n",
    "breast_cancer = datasets.load_breast_cancer()\n",
    "\n",
    "x_train, x_test, y_train, y_test = train_test_split(breast_cancer.data, breast_cancer.target, test_size=0.1, random_state=4)\n",
    "\n",
    "# 建立模型\n",
    "logreg = linear_model.LogisticRegression()\n",
    "\n",
    "# 訓練模型\n",
    "logreg.fit(x_train, y_train)\n",
    "\n",
    "# 預測測試集\n",
    "y_pred = logreg.predict(x_test)\n",
    "\n",
    "# 預測值與實際值的差距，使用 MSE\n",
    "print(\"Mean squared error: %.2f\"\n",
    "      % mean_squared_error(y_test, y_pred))\n",
    "\n",
    "# 印出各特徵對應的係數，可以看到許多係數都變成 0，Lasso Regression 的確可以做特徵選取\n",
    "logreg.coef_"
   ]
  },
  {
   "cell_type": "code",
   "execution_count": 2,
   "metadata": {},
   "outputs": [
    {
     "name": "stdout",
     "output_type": "stream",
     "text": [
      "Mean squared error: 0.10\n"
     ]
    },
    {
     "data": {
      "text/plain": [
       "array([-0.        , -0.        , -0.        , -0.        , -0.        ,\n",
       "       -0.        , -0.        , -0.        , -0.        , -0.        ,\n",
       "       -0.        , -0.        , -0.        ,  0.        , -0.        ,\n",
       "       -0.        , -0.        , -0.        , -0.        , -0.        ,\n",
       "       -0.        , -0.        , -0.00330354, -0.00042856, -0.        ,\n",
       "       -0.        , -0.        , -0.        , -0.        , -0.        ])"
      ]
     },
     "execution_count": 2,
     "metadata": {},
     "output_type": "execute_result"
    }
   ],
   "source": [
    "breast_cancer = datasets.load_breast_cancer()\n",
    "\n",
    "x_train, x_test, y_train, y_test = train_test_split(breast_cancer.data, breast_cancer.target, test_size=0.1, random_state=4)\n",
    "\n",
    "# 建立一個LASSO的線性回歸模型\n",
    "lasso = linear_model.Lasso(alpha=1.0)\n",
    "\n",
    "# 將訓練資料丟進去模型訓練\n",
    "lasso.fit(x_train, y_train)\n",
    "\n",
    "# 將測試資料丟進模型得到預測結果\n",
    "y_pred = lasso.predict(x_test)\n",
    "\n",
    "# 預測值與實際值的差距，使用 MSE\n",
    "print(\"Mean squared error: %.2f\"\n",
    "      % mean_squared_error(y_test, y_pred))\n",
    "\n",
    "# 印出各特徵對應的係數，可以看到許多係數都變成 0，Lasso Regression 的確可以做特徵選取\n",
    "lasso.coef_"
   ]
  },
  {
   "cell_type": "code",
   "execution_count": 3,
   "metadata": {},
   "outputs": [
    {
     "name": "stdout",
     "output_type": "stream",
     "text": [
      "Mean squared error: 0.07\n"
     ]
    },
    {
     "data": {
      "text/plain": [
       "array([ 1.36899551e-01, -6.14600275e-06,  3.94619781e-03, -1.22117415e-03,\n",
       "       -1.58431327e-01,  3.98750684e-02, -2.06506094e-01, -2.30872364e-01,\n",
       "       -1.23199499e-01, -1.95169007e-02, -2.65668769e-01, -8.60943647e-03,\n",
       "       -5.13263930e-03,  9.62635800e-04, -5.51605658e-02,  8.30700085e-02,\n",
       "        1.84870735e-01, -3.05631400e-02, -3.61465725e-02,  9.21085955e-03,\n",
       "       -2.73517725e-01, -1.01961574e-02,  5.08489598e-03,  1.37427254e-03,\n",
       "       -3.42782777e-01,  6.96215799e-03, -3.96187492e-01, -3.94061115e-01,\n",
       "       -3.45811909e-01, -9.09539560e-02])"
      ]
     },
     "execution_count": 3,
     "metadata": {},
     "output_type": "execute_result"
    }
   ],
   "source": [
    "breast_cancer = datasets.load_breast_cancer()\n",
    "\n",
    "x_train, x_test, y_train, y_test = train_test_split(breast_cancer.data, breast_cancer.target, test_size=0.1, random_state=4)\n",
    "\n",
    "# 建立一個RIDGE的線性回歸模型\n",
    "ridge = linear_model.Ridge(alpha=1.0)\n",
    "\n",
    "# 將訓練資料丟進去模型訓練\n",
    "ridge.fit(x_train, y_train)\n",
    "\n",
    "# 將測試資料丟進模型得到預測結果\n",
    "y_pred = ridge.predict(x_test)\n",
    "\n",
    "# 預測值與實際值的差距，使用 MSE\n",
    "print(\"Mean squared error: %.2f\"\n",
    "      % mean_squared_error(y_test, y_pred))\n",
    "\n",
    "# 印出各特徵對應的係數，可以看到許多係數都變成 0，Lasso Regression 的確可以做特徵選取\n",
    "ridge.coef_"
   ]
  },
  {
   "cell_type": "code",
   "execution_count": null,
   "metadata": {},
   "outputs": [],
   "source": []
  }
 ],
 "metadata": {
  "kernelspec": {
   "display_name": "Python 3",
   "language": "python",
   "name": "python3"
  },
  "language_info": {
   "codemirror_mode": {
    "name": "ipython",
    "version": 3
   },
   "file_extension": ".py",
   "mimetype": "text/x-python",
   "name": "python",
   "nbconvert_exporter": "python",
   "pygments_lexer": "ipython3",
   "version": "3.7.6"
  }
 },
 "nbformat": 4,
 "nbformat_minor": 2
}
